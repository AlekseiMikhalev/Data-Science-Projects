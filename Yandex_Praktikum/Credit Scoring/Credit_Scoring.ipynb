{
  "nbformat": 4,
  "nbformat_minor": 0,
  "metadata": {
    "colab": {
      "name": "Credit Scoring.ipynb",
      "provenance": [],
      "collapsed_sections": [],
      "toc_visible": true
    },
    "kernelspec": {
      "name": "python3",
      "display_name": "Python 3"
    }
  },
  "cells": [
    {
      "cell_type": "markdown",
      "metadata": {
        "id": "sV6pN4JD63FU",
        "colab_type": "text"
      },
      "source": [
        "#__Credit Scoring__\n",
        "Credit scoring is used by lenders to decide on whether to extend or deny credit based on person's credit score.\n",
        "This project mostly aimed to data cleaning. Bank provided the dataset that contained information about bank's clients solvency. \n",
        "\n",
        "\n",
        "To improve the bank's scoring model we've been asked to analyse if there is a correlation between marital status and parenting of a borrower and due credit repayment. "
      ]
    },
    {
      "cell_type": "markdown",
      "metadata": {
        "id": "tVtu491m-UjW",
        "colab_type": "text"
      },
      "source": [
        "## __Data Review__"
      ]
    },
    {
      "cell_type": "code",
      "metadata": {
        "id": "9LxdKgJF6dKT",
        "colab_type": "code",
        "outputId": "9af79c13-e13d-47d2-f847-e7a749bfed9b",
        "colab": {
          "base_uri": "https://localhost:8080/",
          "height": 73
        }
      },
      "source": [
        "import pandas as pd\n",
        "import numpy as np\n",
        "import seaborn as sns"
      ],
      "execution_count": 1,
      "outputs": [
        {
          "output_type": "stream",
          "text": [
            "/usr/local/lib/python3.6/dist-packages/statsmodels/tools/_testing.py:19: FutureWarning: pandas.util.testing is deprecated. Use the functions in the public API at pandas.testing instead.\n",
            "  import pandas.util.testing as tm\n"
          ],
          "name": "stderr"
        }
      ]
    },
    {
      "cell_type": "code",
      "metadata": {
        "id": "XaWHz37wd2Rs",
        "colab_type": "code",
        "colab": {}
      },
      "source": [
        "customer_solvency = pd.read_csv('/content/data.csv')"
      ],
      "execution_count": 0,
      "outputs": []
    },
    {
      "cell_type": "code",
      "metadata": {
        "id": "FnMXZvCYUcAu",
        "colab_type": "code",
        "colab": {
          "base_uri": "https://localhost:8080/",
          "height": 648
        },
        "outputId": "2b279d55-d83a-4f7b-b4cb-50c7206cb438"
      },
      "source": [
        "customer_solvency.info()\n",
        "customer_solvency.head()"
      ],
      "execution_count": 3,
      "outputs": [
        {
          "output_type": "stream",
          "text": [
            "<class 'pandas.core.frame.DataFrame'>\n",
            "RangeIndex: 21525 entries, 0 to 21524\n",
            "Data columns (total 12 columns):\n",
            " #   Column            Non-Null Count  Dtype  \n",
            "---  ------            --------------  -----  \n",
            " 0   children          21525 non-null  int64  \n",
            " 1   days_employed     19351 non-null  float64\n",
            " 2   dob_years         21525 non-null  int64  \n",
            " 3   education         21525 non-null  object \n",
            " 4   education_id      21525 non-null  int64  \n",
            " 5   family_status     21525 non-null  object \n",
            " 6   family_status_id  21525 non-null  int64  \n",
            " 7   gender            21525 non-null  object \n",
            " 8   income_type       21525 non-null  object \n",
            " 9   debt              21525 non-null  int64  \n",
            " 10  total_income      19351 non-null  float64\n",
            " 11  purpose           21525 non-null  object \n",
            "dtypes: float64(2), int64(5), object(5)\n",
            "memory usage: 2.0+ MB\n"
          ],
          "name": "stdout"
        },
        {
          "output_type": "execute_result",
          "data": {
            "text/html": [
              "<div>\n",
              "<style scoped>\n",
              "    .dataframe tbody tr th:only-of-type {\n",
              "        vertical-align: middle;\n",
              "    }\n",
              "\n",
              "    .dataframe tbody tr th {\n",
              "        vertical-align: top;\n",
              "    }\n",
              "\n",
              "    .dataframe thead th {\n",
              "        text-align: right;\n",
              "    }\n",
              "</style>\n",
              "<table border=\"1\" class=\"dataframe\">\n",
              "  <thead>\n",
              "    <tr style=\"text-align: right;\">\n",
              "      <th></th>\n",
              "      <th>children</th>\n",
              "      <th>days_employed</th>\n",
              "      <th>dob_years</th>\n",
              "      <th>education</th>\n",
              "      <th>education_id</th>\n",
              "      <th>family_status</th>\n",
              "      <th>family_status_id</th>\n",
              "      <th>gender</th>\n",
              "      <th>income_type</th>\n",
              "      <th>debt</th>\n",
              "      <th>total_income</th>\n",
              "      <th>purpose</th>\n",
              "    </tr>\n",
              "  </thead>\n",
              "  <tbody>\n",
              "    <tr>\n",
              "      <th>0</th>\n",
              "      <td>1</td>\n",
              "      <td>-8437.673028</td>\n",
              "      <td>42</td>\n",
              "      <td>высшее</td>\n",
              "      <td>0</td>\n",
              "      <td>женат / замужем</td>\n",
              "      <td>0</td>\n",
              "      <td>F</td>\n",
              "      <td>сотрудник</td>\n",
              "      <td>0</td>\n",
              "      <td>253875.639453</td>\n",
              "      <td>покупка жилья</td>\n",
              "    </tr>\n",
              "    <tr>\n",
              "      <th>1</th>\n",
              "      <td>1</td>\n",
              "      <td>-4024.803754</td>\n",
              "      <td>36</td>\n",
              "      <td>среднее</td>\n",
              "      <td>1</td>\n",
              "      <td>женат / замужем</td>\n",
              "      <td>0</td>\n",
              "      <td>F</td>\n",
              "      <td>сотрудник</td>\n",
              "      <td>0</td>\n",
              "      <td>112080.014102</td>\n",
              "      <td>приобретение автомобиля</td>\n",
              "    </tr>\n",
              "    <tr>\n",
              "      <th>2</th>\n",
              "      <td>0</td>\n",
              "      <td>-5623.422610</td>\n",
              "      <td>33</td>\n",
              "      <td>Среднее</td>\n",
              "      <td>1</td>\n",
              "      <td>женат / замужем</td>\n",
              "      <td>0</td>\n",
              "      <td>M</td>\n",
              "      <td>сотрудник</td>\n",
              "      <td>0</td>\n",
              "      <td>145885.952297</td>\n",
              "      <td>покупка жилья</td>\n",
              "    </tr>\n",
              "    <tr>\n",
              "      <th>3</th>\n",
              "      <td>3</td>\n",
              "      <td>-4124.747207</td>\n",
              "      <td>32</td>\n",
              "      <td>среднее</td>\n",
              "      <td>1</td>\n",
              "      <td>женат / замужем</td>\n",
              "      <td>0</td>\n",
              "      <td>M</td>\n",
              "      <td>сотрудник</td>\n",
              "      <td>0</td>\n",
              "      <td>267628.550329</td>\n",
              "      <td>дополнительное образование</td>\n",
              "    </tr>\n",
              "    <tr>\n",
              "      <th>4</th>\n",
              "      <td>0</td>\n",
              "      <td>340266.072047</td>\n",
              "      <td>53</td>\n",
              "      <td>среднее</td>\n",
              "      <td>1</td>\n",
              "      <td>гражданский брак</td>\n",
              "      <td>1</td>\n",
              "      <td>F</td>\n",
              "      <td>пенсионер</td>\n",
              "      <td>0</td>\n",
              "      <td>158616.077870</td>\n",
              "      <td>сыграть свадьбу</td>\n",
              "    </tr>\n",
              "  </tbody>\n",
              "</table>\n",
              "</div>"
            ],
            "text/plain": [
              "   children  days_employed  ...   total_income                     purpose\n",
              "0         1   -8437.673028  ...  253875.639453               покупка жилья\n",
              "1         1   -4024.803754  ...  112080.014102     приобретение автомобиля\n",
              "2         0   -5623.422610  ...  145885.952297               покупка жилья\n",
              "3         3   -4124.747207  ...  267628.550329  дополнительное образование\n",
              "4         0  340266.072047  ...  158616.077870             сыграть свадьбу\n",
              "\n",
              "[5 rows x 12 columns]"
            ]
          },
          "metadata": {
            "tags": []
          },
          "execution_count": 3
        }
      ]
    },
    {
      "cell_type": "code",
      "metadata": {
        "id": "5ifGsZdsUgkg",
        "colab_type": "code",
        "colab": {
          "base_uri": "https://localhost:8080/",
          "height": 35
        },
        "outputId": "132bec1a-b5d5-4db8-82f4-ea22e49d74b7"
      },
      "source": [
        "# Check data for dublicates\n",
        "customer_solvency.duplicated().sum()"
      ],
      "execution_count": 4,
      "outputs": [
        {
          "output_type": "execute_result",
          "data": {
            "text/plain": [
              "54"
            ]
          },
          "metadata": {
            "tags": []
          },
          "execution_count": 4
        }
      ]
    },
    {
      "cell_type": "code",
      "metadata": {
        "id": "sPCaL-aXU9p3",
        "colab_type": "code",
        "colab": {
          "base_uri": "https://localhost:8080/",
          "height": 253
        },
        "outputId": "9a2c7f0f-f190-4767-edee-5c6c2c908dab"
      },
      "source": [
        "# Check data for missing values\n",
        "customer_solvency.isna().sum()"
      ],
      "execution_count": 5,
      "outputs": [
        {
          "output_type": "execute_result",
          "data": {
            "text/plain": [
              "children               0\n",
              "days_employed       2174\n",
              "dob_years              0\n",
              "education              0\n",
              "education_id           0\n",
              "family_status          0\n",
              "family_status_id       0\n",
              "gender                 0\n",
              "income_type            0\n",
              "debt                   0\n",
              "total_income        2174\n",
              "purpose                0\n",
              "dtype: int64"
            ]
          },
          "metadata": {
            "tags": []
          },
          "execution_count": 5
        }
      ]
    },
    {
      "cell_type": "markdown",
      "metadata": {
        "id": "zQa5lBIxVfA4",
        "colab_type": "text"
      },
      "source": [
        "Let's check for any anomalies in our data"
      ]
    },
    {
      "cell_type": "code",
      "metadata": {
        "id": "e7OyXj8kVDYX",
        "colab_type": "code",
        "colab": {
          "base_uri": "https://localhost:8080/",
          "height": 180
        },
        "outputId": "bd726c23-96f0-40bf-e450-bbc41a77c00e"
      },
      "source": [
        "# Number of children\n",
        "customer_solvency.sort_values('children')['children'].value_counts().sort_index()"
      ],
      "execution_count": 6,
      "outputs": [
        {
          "output_type": "execute_result",
          "data": {
            "text/plain": [
              "-1        47\n",
              " 0     14149\n",
              " 1      4818\n",
              " 2      2055\n",
              " 3       330\n",
              " 4        41\n",
              " 5         9\n",
              " 20       76\n",
              "Name: children, dtype: int64"
            ]
          },
          "metadata": {
            "tags": []
          },
          "execution_count": 6
        }
      ]
    },
    {
      "cell_type": "markdown",
      "metadata": {
        "id": "qrclghjxVyzw",
        "colab_type": "text"
      },
      "source": [
        "The number of childre as \"-1\" and \"20\" seems strange, something wrong"
      ]
    },
    {
      "cell_type": "code",
      "metadata": {
        "id": "TJhlk5JNVocF",
        "colab_type": "code",
        "colab": {
          "base_uri": "https://localhost:8080/",
          "height": 35
        },
        "outputId": "7409468a-0878-43e7-b437-0a6653d7b1c1"
      },
      "source": [
        "# Check if the column \"days_employed\" has any negative numbers\n",
        "customer_solvency[customer_solvency['days_employed'] < 0]['days_employed'].count()"
      ],
      "execution_count": 7,
      "outputs": [
        {
          "output_type": "execute_result",
          "data": {
            "text/plain": [
              "15906"
            ]
          },
          "metadata": {
            "tags": []
          },
          "execution_count": 7
        }
      ]
    },
    {
      "cell_type": "markdown",
      "metadata": {
        "id": "6m08dkgOWMvE",
        "colab_type": "text"
      },
      "source": [
        "Wow, not good, we have a lot of negative values in the column where it's not supposed to be"
      ]
    },
    {
      "cell_type": "code",
      "metadata": {
        "id": "j5XnhONjWLeo",
        "colab_type": "code",
        "colab": {
          "base_uri": "https://localhost:8080/",
          "height": 355
        },
        "outputId": "1d298d85-145e-4ec8-92fd-7900b769b51b"
      },
      "source": [
        "# Check positive numbers in the column \"days_employed\"\n",
        "customer_solvency[customer_solvency['days_employed'] > 0].head()"
      ],
      "execution_count": 8,
      "outputs": [
        {
          "output_type": "execute_result",
          "data": {
            "text/html": [
              "<div>\n",
              "<style scoped>\n",
              "    .dataframe tbody tr th:only-of-type {\n",
              "        vertical-align: middle;\n",
              "    }\n",
              "\n",
              "    .dataframe tbody tr th {\n",
              "        vertical-align: top;\n",
              "    }\n",
              "\n",
              "    .dataframe thead th {\n",
              "        text-align: right;\n",
              "    }\n",
              "</style>\n",
              "<table border=\"1\" class=\"dataframe\">\n",
              "  <thead>\n",
              "    <tr style=\"text-align: right;\">\n",
              "      <th></th>\n",
              "      <th>children</th>\n",
              "      <th>days_employed</th>\n",
              "      <th>dob_years</th>\n",
              "      <th>education</th>\n",
              "      <th>education_id</th>\n",
              "      <th>family_status</th>\n",
              "      <th>family_status_id</th>\n",
              "      <th>gender</th>\n",
              "      <th>income_type</th>\n",
              "      <th>debt</th>\n",
              "      <th>total_income</th>\n",
              "      <th>purpose</th>\n",
              "    </tr>\n",
              "  </thead>\n",
              "  <tbody>\n",
              "    <tr>\n",
              "      <th>4</th>\n",
              "      <td>0</td>\n",
              "      <td>340266.072047</td>\n",
              "      <td>53</td>\n",
              "      <td>среднее</td>\n",
              "      <td>1</td>\n",
              "      <td>гражданский брак</td>\n",
              "      <td>1</td>\n",
              "      <td>F</td>\n",
              "      <td>пенсионер</td>\n",
              "      <td>0</td>\n",
              "      <td>158616.077870</td>\n",
              "      <td>сыграть свадьбу</td>\n",
              "    </tr>\n",
              "    <tr>\n",
              "      <th>18</th>\n",
              "      <td>0</td>\n",
              "      <td>400281.136913</td>\n",
              "      <td>53</td>\n",
              "      <td>среднее</td>\n",
              "      <td>1</td>\n",
              "      <td>вдовец / вдова</td>\n",
              "      <td>2</td>\n",
              "      <td>F</td>\n",
              "      <td>пенсионер</td>\n",
              "      <td>0</td>\n",
              "      <td>56823.777243</td>\n",
              "      <td>на покупку подержанного автомобиля</td>\n",
              "    </tr>\n",
              "    <tr>\n",
              "      <th>24</th>\n",
              "      <td>1</td>\n",
              "      <td>338551.952911</td>\n",
              "      <td>57</td>\n",
              "      <td>среднее</td>\n",
              "      <td>1</td>\n",
              "      <td>Не женат / не замужем</td>\n",
              "      <td>4</td>\n",
              "      <td>F</td>\n",
              "      <td>пенсионер</td>\n",
              "      <td>0</td>\n",
              "      <td>290547.235997</td>\n",
              "      <td>операции с коммерческой недвижимостью</td>\n",
              "    </tr>\n",
              "    <tr>\n",
              "      <th>25</th>\n",
              "      <td>0</td>\n",
              "      <td>363548.489348</td>\n",
              "      <td>67</td>\n",
              "      <td>среднее</td>\n",
              "      <td>1</td>\n",
              "      <td>женат / замужем</td>\n",
              "      <td>0</td>\n",
              "      <td>M</td>\n",
              "      <td>пенсионер</td>\n",
              "      <td>0</td>\n",
              "      <td>55112.757732</td>\n",
              "      <td>покупка недвижимости</td>\n",
              "    </tr>\n",
              "    <tr>\n",
              "      <th>30</th>\n",
              "      <td>1</td>\n",
              "      <td>335581.668515</td>\n",
              "      <td>62</td>\n",
              "      <td>среднее</td>\n",
              "      <td>1</td>\n",
              "      <td>женат / замужем</td>\n",
              "      <td>0</td>\n",
              "      <td>F</td>\n",
              "      <td>пенсионер</td>\n",
              "      <td>0</td>\n",
              "      <td>171456.067993</td>\n",
              "      <td>операции с коммерческой недвижимостью</td>\n",
              "    </tr>\n",
              "  </tbody>\n",
              "</table>\n",
              "</div>"
            ],
            "text/plain": [
              "    children  ...                                purpose\n",
              "4          0  ...                        сыграть свадьбу\n",
              "18         0  ...     на покупку подержанного автомобиля\n",
              "24         1  ...  операции с коммерческой недвижимостью\n",
              "25         0  ...                   покупка недвижимости\n",
              "30         1  ...  операции с коммерческой недвижимостью\n",
              "\n",
              "[5 rows x 12 columns]"
            ]
          },
          "metadata": {
            "tags": []
          },
          "execution_count": 8
        }
      ]
    },
    {
      "cell_type": "markdown",
      "metadata": {
        "id": "qFU67C9AXDmN",
        "colab_type": "text"
      },
      "source": [
        "It looks strange, positive numbers are too big. For example, if we divide first raw 340266 by 365 we get 340266/365 = **~932 years**. Well, either many of bank's clients are immortal or we've got an error in these values. I am inclined to the second option. But, to be safe, let's check clients' age as well."
      ]
    },
    {
      "cell_type": "code",
      "metadata": {
        "id": "KgZ-DNCtXAzh",
        "colab_type": "code",
        "colab": {
          "base_uri": "https://localhost:8080/",
          "height": 1000
        },
        "outputId": "6f02263a-d8dc-4d5c-9175-dded3bcaf956"
      },
      "source": [
        "customer_solvency.sort_values('dob_years')['dob_years'].value_counts().sort_index()"
      ],
      "execution_count": 9,
      "outputs": [
        {
          "output_type": "execute_result",
          "data": {
            "text/plain": [
              "0     101\n",
              "19     14\n",
              "20     51\n",
              "21    111\n",
              "22    183\n",
              "23    254\n",
              "24    264\n",
              "25    357\n",
              "26    408\n",
              "27    493\n",
              "28    503\n",
              "29    545\n",
              "30    540\n",
              "31    560\n",
              "32    510\n",
              "33    581\n",
              "34    603\n",
              "35    617\n",
              "36    555\n",
              "37    537\n",
              "38    598\n",
              "39    573\n",
              "40    609\n",
              "41    607\n",
              "42    597\n",
              "43    513\n",
              "44    547\n",
              "45    497\n",
              "46    475\n",
              "47    480\n",
              "48    538\n",
              "49    508\n",
              "50    514\n",
              "51    448\n",
              "52    484\n",
              "53    459\n",
              "54    479\n",
              "55    443\n",
              "56    487\n",
              "57    460\n",
              "58    461\n",
              "59    444\n",
              "60    377\n",
              "61    355\n",
              "62    352\n",
              "63    269\n",
              "64    265\n",
              "65    194\n",
              "66    183\n",
              "67    167\n",
              "68     99\n",
              "69     85\n",
              "70     65\n",
              "71     58\n",
              "72     33\n",
              "73      8\n",
              "74      6\n",
              "75      1\n",
              "Name: dob_years, dtype: int64"
            ]
          },
          "metadata": {
            "tags": []
          },
          "execution_count": 9
        }
      ]
    },
    {
      "cell_type": "markdown",
      "metadata": {
        "id": "dzhFW10dYZHx",
        "colab_type": "text"
      },
      "source": [
        "Nope, unfortunately (or fortunately) the clients are just normal humans with quite normal age. However, we also see that 101 client is __0 years__ old. Obviously, it's an error."
      ]
    },
    {
      "cell_type": "code",
      "metadata": {
        "id": "-Lgh2J-sYTwx",
        "colab_type": "code",
        "colab": {
          "base_uri": "https://localhost:8080/",
          "height": 307
        },
        "outputId": "8d9b2558-59d0-4feb-b06c-e38ab5ed991a"
      },
      "source": [
        "# Check an information about education\n",
        "customer_solvency.sort_values('education')['education'].value_counts()"
      ],
      "execution_count": 10,
      "outputs": [
        {
          "output_type": "execute_result",
          "data": {
            "text/plain": [
              "среднее                13750\n",
              "высшее                  4718\n",
              "СРЕДНЕЕ                  772\n",
              "Среднее                  711\n",
              "неоконченное высшее      668\n",
              "ВЫСШЕЕ                   274\n",
              "Высшее                   268\n",
              "начальное                250\n",
              "Неоконченное высшее       47\n",
              "НЕОКОНЧЕННОЕ ВЫСШЕЕ       29\n",
              "НАЧАЛЬНОЕ                 17\n",
              "Начальное                 15\n",
              "ученая степень             4\n",
              "Ученая степень             1\n",
              "УЧЕНАЯ СТЕПЕНЬ             1\n",
              "Name: education, dtype: int64"
            ]
          },
          "metadata": {
            "tags": []
          },
          "execution_count": 10
        }
      ]
    },
    {
      "cell_type": "code",
      "metadata": {
        "id": "_R3rUqBpZLoi",
        "colab_type": "code",
        "colab": {
          "base_uri": "https://localhost:8080/",
          "height": 126
        },
        "outputId": "102f2fd0-a42e-4148-bb70-4c157f3b38bc"
      },
      "source": [
        "# Checking marital status\n",
        "customer_solvency['family_status'].value_counts()"
      ],
      "execution_count": 11,
      "outputs": [
        {
          "output_type": "execute_result",
          "data": {
            "text/plain": [
              "женат / замужем          12380\n",
              "гражданский брак          4177\n",
              "Не женат / не замужем     2813\n",
              "в разводе                 1195\n",
              "вдовец / вдова             960\n",
              "Name: family_status, dtype: int64"
            ]
          },
          "metadata": {
            "tags": []
          },
          "execution_count": 11
        }
      ]
    },
    {
      "cell_type": "code",
      "metadata": {
        "id": "PwLOVnnWZdlQ",
        "colab_type": "code",
        "colab": {
          "base_uri": "https://localhost:8080/",
          "height": 90
        },
        "outputId": "0680febd-1bb3-46c6-b1e7-f8110aab9385"
      },
      "source": [
        "# Check gender data\n",
        "customer_solvency['gender'].value_counts()"
      ],
      "execution_count": 12,
      "outputs": [
        {
          "output_type": "execute_result",
          "data": {
            "text/plain": [
              "F      14236\n",
              "M       7288\n",
              "XNA        1\n",
              "Name: gender, dtype: int64"
            ]
          },
          "metadata": {
            "tags": []
          },
          "execution_count": 12
        }
      ]
    },
    {
      "cell_type": "code",
      "metadata": {
        "id": "TWqj2MePZkmL",
        "colab_type": "code",
        "colab": {
          "base_uri": "https://localhost:8080/",
          "height": 180
        },
        "outputId": "145a79e3-0664-410f-9325-e226a5f2d47c"
      },
      "source": [
        "# Check an income type\n",
        "customer_solvency['income_type'].value_counts()"
      ],
      "execution_count": 13,
      "outputs": [
        {
          "output_type": "execute_result",
          "data": {
            "text/plain": [
              "сотрудник          11119\n",
              "компаньон           5085\n",
              "пенсионер           3856\n",
              "госслужащий         1459\n",
              "предприниматель        2\n",
              "безработный            2\n",
              "в декрете              1\n",
              "студент                1\n",
              "Name: income_type, dtype: int64"
            ]
          },
          "metadata": {
            "tags": []
          },
          "execution_count": 13
        }
      ]
    },
    {
      "cell_type": "markdown",
      "metadata": {
        "id": "gLmOLleZZzPl",
        "colab_type": "text"
      },
      "source": [
        "__Income. Dive Deeper__"
      ]
    },
    {
      "cell_type": "code",
      "metadata": {
        "id": "ctpGkITbZtf8",
        "colab_type": "code",
        "colab": {
          "base_uri": "https://localhost:8080/",
          "height": 68
        },
        "outputId": "66b688f6-7154-4fca-cd2a-c5676b00b13b"
      },
      "source": [
        "# Check if we have clients with zero income\n",
        "customer_solvency[customer_solvency['total_income'] == 0]"
      ],
      "execution_count": 14,
      "outputs": [
        {
          "output_type": "execute_result",
          "data": {
            "text/html": [
              "<div>\n",
              "<style scoped>\n",
              "    .dataframe tbody tr th:only-of-type {\n",
              "        vertical-align: middle;\n",
              "    }\n",
              "\n",
              "    .dataframe tbody tr th {\n",
              "        vertical-align: top;\n",
              "    }\n",
              "\n",
              "    .dataframe thead th {\n",
              "        text-align: right;\n",
              "    }\n",
              "</style>\n",
              "<table border=\"1\" class=\"dataframe\">\n",
              "  <thead>\n",
              "    <tr style=\"text-align: right;\">\n",
              "      <th></th>\n",
              "      <th>children</th>\n",
              "      <th>days_employed</th>\n",
              "      <th>dob_years</th>\n",
              "      <th>education</th>\n",
              "      <th>education_id</th>\n",
              "      <th>family_status</th>\n",
              "      <th>family_status_id</th>\n",
              "      <th>gender</th>\n",
              "      <th>income_type</th>\n",
              "      <th>debt</th>\n",
              "      <th>total_income</th>\n",
              "      <th>purpose</th>\n",
              "    </tr>\n",
              "  </thead>\n",
              "  <tbody>\n",
              "  </tbody>\n",
              "</table>\n",
              "</div>"
            ],
            "text/plain": [
              "Empty DataFrame\n",
              "Columns: [children, days_employed, dob_years, education, education_id, family_status, family_status_id, gender, income_type, debt, total_income, purpose]\n",
              "Index: []"
            ]
          },
          "metadata": {
            "tags": []
          },
          "execution_count": 14
        }
      ]
    },
    {
      "cell_type": "code",
      "metadata": {
        "id": "MTMrUTMTZ_n4",
        "colab_type": "code",
        "colab": {
          "base_uri": "https://localhost:8080/",
          "height": 35
        },
        "outputId": "f9f33999-a6fa-4fad-e2dc-f1c258e14a55"
      },
      "source": [
        "# Check missing values re income\n",
        "customer_solvency['total_income'].isnull().sum()"
      ],
      "execution_count": 15,
      "outputs": [
        {
          "output_type": "execute_result",
          "data": {
            "text/plain": [
              "2174"
            ]
          },
          "metadata": {
            "tags": []
          },
          "execution_count": 15
        }
      ]
    },
    {
      "cell_type": "code",
      "metadata": {
        "id": "NTznDJT1aw-L",
        "colab_type": "code",
        "colab": {
          "base_uri": "https://localhost:8080/",
          "height": 724
        },
        "outputId": "584cd899-bd52-444f-9bdd-63bdec7218e1"
      },
      "source": [
        "# Check loan purposes\n",
        "customer_solvency['purpose'].value_counts()"
      ],
      "execution_count": 16,
      "outputs": [
        {
          "output_type": "execute_result",
          "data": {
            "text/plain": [
              "свадьба                                   797\n",
              "на проведение свадьбы                     777\n",
              "сыграть свадьбу                           774\n",
              "операции с недвижимостью                  676\n",
              "покупка коммерческой недвижимости         664\n",
              "операции с жильем                         653\n",
              "покупка жилья для сдачи                   653\n",
              "операции с коммерческой недвижимостью     651\n",
              "жилье                                     647\n",
              "покупка жилья                             647\n",
              "покупка жилья для семьи                   641\n",
              "строительство собственной недвижимости    635\n",
              "недвижимость                              634\n",
              "операции со своей недвижимостью           630\n",
              "строительство жилой недвижимости          626\n",
              "покупка недвижимости                      624\n",
              "строительство недвижимости                620\n",
              "покупка своего жилья                      620\n",
              "ремонт жилью                              612\n",
              "покупка жилой недвижимости                607\n",
              "на покупку своего автомобиля              505\n",
              "заняться высшим образованием              496\n",
              "автомобиль                                495\n",
              "сделка с подержанным автомобилем          489\n",
              "свой автомобиль                           480\n",
              "на покупку подержанного автомобиля        479\n",
              "автомобили                                478\n",
              "на покупку автомобиля                     472\n",
              "дополнительное образование                462\n",
              "приобретение автомобиля                   462\n",
              "сделка с автомобилем                      455\n",
              "высшее образование                        453\n",
              "образование                               447\n",
              "получение дополнительного образования     447\n",
              "получение образования                     443\n",
              "профильное образование                    436\n",
              "получение высшего образования             426\n",
              "заняться образованием                     412\n",
              "Name: purpose, dtype: int64"
            ]
          },
          "metadata": {
            "tags": []
          },
          "execution_count": 16
        }
      ]
    },
    {
      "cell_type": "markdown",
      "metadata": {
        "id": "jqNKtijIfTm5",
        "colab_type": "text"
      },
      "source": [
        "##__Data Preprocessing__\n",
        "\n",
        "We've been asked if there is a correlation between marital status and parenting of a borrower and due credit repayment.\n",
        "Therefore, we will focus only on the columns that are useful for our goal"
      ]
    },
    {
      "cell_type": "code",
      "metadata": {
        "id": "KVubF3zGcJZf",
        "colab_type": "code",
        "colab": {
          "base_uri": "https://localhost:8080/",
          "height": 1000
        },
        "outputId": "dd7f22c9-2693-4a3c-906d-5241b7a20d5c"
      },
      "source": [
        "# Create mapping for filing missing values in \"days_employed\"\n",
        "median_values = pd.pivot_table(\n",
        "    customer_solvency,\n",
        "    index=['education', 'income_type'],\n",
        "    values=['days_employed', 'total_income'],\n",
        "    aggfunc=np.median\n",
        ")\n",
        "\n",
        "median_values"
      ],
      "execution_count": 17,
      "outputs": [
        {
          "output_type": "execute_result",
          "data": {
            "text/html": [
              "<div>\n",
              "<style scoped>\n",
              "    .dataframe tbody tr th:only-of-type {\n",
              "        vertical-align: middle;\n",
              "    }\n",
              "\n",
              "    .dataframe tbody tr th {\n",
              "        vertical-align: top;\n",
              "    }\n",
              "\n",
              "    .dataframe thead th {\n",
              "        text-align: right;\n",
              "    }\n",
              "</style>\n",
              "<table border=\"1\" class=\"dataframe\">\n",
              "  <thead>\n",
              "    <tr style=\"text-align: right;\">\n",
              "      <th></th>\n",
              "      <th></th>\n",
              "      <th>days_employed</th>\n",
              "      <th>total_income</th>\n",
              "    </tr>\n",
              "    <tr>\n",
              "      <th>education</th>\n",
              "      <th>income_type</th>\n",
              "      <th></th>\n",
              "      <th></th>\n",
              "    </tr>\n",
              "  </thead>\n",
              "  <tbody>\n",
              "    <tr>\n",
              "      <th rowspan=\"4\" valign=\"top\">ВЫСШЕЕ</th>\n",
              "      <th>госслужащий</th>\n",
              "      <td>-1424.562274</td>\n",
              "      <td>174909.179988</td>\n",
              "    </tr>\n",
              "    <tr>\n",
              "      <th>компаньон</th>\n",
              "      <td>-1423.978136</td>\n",
              "      <td>200701.997023</td>\n",
              "    </tr>\n",
              "    <tr>\n",
              "      <th>пенсионер</th>\n",
              "      <td>367532.282115</td>\n",
              "      <td>165563.164062</td>\n",
              "    </tr>\n",
              "    <tr>\n",
              "      <th>сотрудник</th>\n",
              "      <td>-1602.753306</td>\n",
              "      <td>144683.271465</td>\n",
              "    </tr>\n",
              "    <tr>\n",
              "      <th rowspan=\"5\" valign=\"top\">Высшее</th>\n",
              "      <th>безработный</th>\n",
              "      <td>395302.838654</td>\n",
              "      <td>202722.511368</td>\n",
              "    </tr>\n",
              "    <tr>\n",
              "      <th>госслужащий</th>\n",
              "      <td>-3750.610464</td>\n",
              "      <td>161671.347625</td>\n",
              "    </tr>\n",
              "    <tr>\n",
              "      <th>компаньон</th>\n",
              "      <td>-1453.451901</td>\n",
              "      <td>192451.667511</td>\n",
              "    </tr>\n",
              "    <tr>\n",
              "      <th>пенсионер</th>\n",
              "      <td>368379.850772</td>\n",
              "      <td>154962.528710</td>\n",
              "    </tr>\n",
              "    <tr>\n",
              "      <th>сотрудник</th>\n",
              "      <td>-1534.735406</td>\n",
              "      <td>178238.955336</td>\n",
              "    </tr>\n",
              "    <tr>\n",
              "      <th rowspan=\"3\" valign=\"top\">НАЧАЛЬНОЕ</th>\n",
              "      <th>компаньон</th>\n",
              "      <td>-1265.943306</td>\n",
              "      <td>190952.908390</td>\n",
              "    </tr>\n",
              "    <tr>\n",
              "      <th>пенсионер</th>\n",
              "      <td>360264.985350</td>\n",
              "      <td>90479.336389</td>\n",
              "    </tr>\n",
              "    <tr>\n",
              "      <th>сотрудник</th>\n",
              "      <td>-1012.313022</td>\n",
              "      <td>212545.366151</td>\n",
              "    </tr>\n",
              "    <tr>\n",
              "      <th rowspan=\"3\" valign=\"top\">НЕОКОНЧЕННОЕ ВЫСШЕЕ</th>\n",
              "      <th>компаньон</th>\n",
              "      <td>-775.760267</td>\n",
              "      <td>145528.679914</td>\n",
              "    </tr>\n",
              "    <tr>\n",
              "      <th>пенсионер</th>\n",
              "      <td>358732.475441</td>\n",
              "      <td>412386.347106</td>\n",
              "    </tr>\n",
              "    <tr>\n",
              "      <th>сотрудник</th>\n",
              "      <td>-1546.148345</td>\n",
              "      <td>166015.790504</td>\n",
              "    </tr>\n",
              "    <tr>\n",
              "      <th rowspan=\"4\" valign=\"top\">Начальное</th>\n",
              "      <th>госслужащий</th>\n",
              "      <td>-301.333707</td>\n",
              "      <td>190912.178349</td>\n",
              "    </tr>\n",
              "    <tr>\n",
              "      <th>компаньон</th>\n",
              "      <td>-1030.219648</td>\n",
              "      <td>88227.830722</td>\n",
              "    </tr>\n",
              "    <tr>\n",
              "      <th>пенсионер</th>\n",
              "      <td>364632.447491</td>\n",
              "      <td>98853.333449</td>\n",
              "    </tr>\n",
              "    <tr>\n",
              "      <th>сотрудник</th>\n",
              "      <td>-852.697747</td>\n",
              "      <td>129895.001992</td>\n",
              "    </tr>\n",
              "    <tr>\n",
              "      <th rowspan=\"4\" valign=\"top\">Неоконченное высшее</th>\n",
              "      <th>госслужащий</th>\n",
              "      <td>-1178.018163</td>\n",
              "      <td>107224.860090</td>\n",
              "    </tr>\n",
              "    <tr>\n",
              "      <th>компаньон</th>\n",
              "      <td>-711.837088</td>\n",
              "      <td>183379.320368</td>\n",
              "    </tr>\n",
              "    <tr>\n",
              "      <th>пенсионер</th>\n",
              "      <td>396568.887159</td>\n",
              "      <td>83625.583859</td>\n",
              "    </tr>\n",
              "    <tr>\n",
              "      <th>сотрудник</th>\n",
              "      <td>-1653.837028</td>\n",
              "      <td>159115.726175</td>\n",
              "    </tr>\n",
              "    <tr>\n",
              "      <th rowspan=\"5\" valign=\"top\">СРЕДНЕЕ</th>\n",
              "      <th>в декрете</th>\n",
              "      <td>-3296.759962</td>\n",
              "      <td>53829.130729</td>\n",
              "    </tr>\n",
              "    <tr>\n",
              "      <th>госслужащий</th>\n",
              "      <td>-3356.097160</td>\n",
              "      <td>132756.053048</td>\n",
              "    </tr>\n",
              "    <tr>\n",
              "      <th>компаньон</th>\n",
              "      <td>-1945.914306</td>\n",
              "      <td>157308.365600</td>\n",
              "    </tr>\n",
              "    <tr>\n",
              "      <th>пенсионер</th>\n",
              "      <td>363541.465259</td>\n",
              "      <td>113656.027279</td>\n",
              "    </tr>\n",
              "    <tr>\n",
              "      <th>сотрудник</th>\n",
              "      <td>-1567.112656</td>\n",
              "      <td>135823.934197</td>\n",
              "    </tr>\n",
              "    <tr>\n",
              "      <th rowspan=\"4\" valign=\"top\">Среднее</th>\n",
              "      <th>госслужащий</th>\n",
              "      <td>-2291.747052</td>\n",
              "      <td>148529.629601</td>\n",
              "    </tr>\n",
              "    <tr>\n",
              "      <th>компаньон</th>\n",
              "      <td>-1863.730566</td>\n",
              "      <td>149190.998579</td>\n",
              "    </tr>\n",
              "    <tr>\n",
              "      <th>пенсионер</th>\n",
              "      <td>363995.316389</td>\n",
              "      <td>128155.229215</td>\n",
              "    </tr>\n",
              "    <tr>\n",
              "      <th>сотрудник</th>\n",
              "      <td>-1730.667138</td>\n",
              "      <td>133399.107243</td>\n",
              "    </tr>\n",
              "    <tr>\n",
              "      <th>УЧЕНАЯ СТЕПЕНЬ</th>\n",
              "      <th>сотрудник</th>\n",
              "      <td>-409.200149</td>\n",
              "      <td>198570.757322</td>\n",
              "    </tr>\n",
              "    <tr>\n",
              "      <th>Ученая степень</th>\n",
              "      <th>пенсионер</th>\n",
              "      <td>337584.815560</td>\n",
              "      <td>98752.495442</td>\n",
              "    </tr>\n",
              "    <tr>\n",
              "      <th rowspan=\"6\" valign=\"top\">высшее</th>\n",
              "      <th>госслужащий</th>\n",
              "      <td>-2577.299850</td>\n",
              "      <td>172511.107016</td>\n",
              "    </tr>\n",
              "    <tr>\n",
              "      <th>компаньон</th>\n",
              "      <td>-1461.167287</td>\n",
              "      <td>201911.716329</td>\n",
              "    </tr>\n",
              "    <tr>\n",
              "      <th>пенсионер</th>\n",
              "      <td>366157.236636</td>\n",
              "      <td>142825.046222</td>\n",
              "    </tr>\n",
              "    <tr>\n",
              "      <th>предприниматель</th>\n",
              "      <td>-520.848083</td>\n",
              "      <td>499163.144947</td>\n",
              "    </tr>\n",
              "    <tr>\n",
              "      <th>сотрудник</th>\n",
              "      <td>-1548.646517</td>\n",
              "      <td>166164.078024</td>\n",
              "    </tr>\n",
              "    <tr>\n",
              "      <th>студент</th>\n",
              "      <td>-578.751554</td>\n",
              "      <td>98201.625314</td>\n",
              "    </tr>\n",
              "    <tr>\n",
              "      <th rowspan=\"4\" valign=\"top\">начальное</th>\n",
              "      <th>госслужащий</th>\n",
              "      <td>-3043.933615</td>\n",
              "      <td>105766.403301</td>\n",
              "    </tr>\n",
              "    <tr>\n",
              "      <th>компаньон</th>\n",
              "      <td>-1166.810199</td>\n",
              "      <td>170077.891115</td>\n",
              "    </tr>\n",
              "    <tr>\n",
              "      <th>пенсионер</th>\n",
              "      <td>358777.901745</td>\n",
              "      <td>104505.757848</td>\n",
              "    </tr>\n",
              "    <tr>\n",
              "      <th>сотрудник</th>\n",
              "      <td>-1261.719742</td>\n",
              "      <td>124298.759469</td>\n",
              "    </tr>\n",
              "    <tr>\n",
              "      <th rowspan=\"4\" valign=\"top\">неоконченное высшее</th>\n",
              "      <th>госслужащий</th>\n",
              "      <td>-2038.132156</td>\n",
              "      <td>165106.669771</td>\n",
              "    </tr>\n",
              "    <tr>\n",
              "      <th>компаньон</th>\n",
              "      <td>-1032.968329</td>\n",
              "      <td>179867.152890</td>\n",
              "    </tr>\n",
              "    <tr>\n",
              "      <th>пенсионер</th>\n",
              "      <td>371193.915404</td>\n",
              "      <td>122706.716059</td>\n",
              "    </tr>\n",
              "    <tr>\n",
              "      <th>сотрудник</th>\n",
              "      <td>-1158.032596</td>\n",
              "      <td>149551.191876</td>\n",
              "    </tr>\n",
              "    <tr>\n",
              "      <th rowspan=\"5\" valign=\"top\">среднее</th>\n",
              "      <th>безработный</th>\n",
              "      <td>337524.466835</td>\n",
              "      <td>59956.991984</td>\n",
              "    </tr>\n",
              "    <tr>\n",
              "      <th>госслужащий</th>\n",
              "      <td>-2856.781570</td>\n",
              "      <td>136652.970357</td>\n",
              "    </tr>\n",
              "    <tr>\n",
              "      <th>компаньон</th>\n",
              "      <td>-1645.331963</td>\n",
              "      <td>159652.900458</td>\n",
              "    </tr>\n",
              "    <tr>\n",
              "      <th>пенсионер</th>\n",
              "      <td>365232.442222</td>\n",
              "      <td>114483.373934</td>\n",
              "    </tr>\n",
              "    <tr>\n",
              "      <th>сотрудник</th>\n",
              "      <td>-1607.383724</td>\n",
              "      <td>136818.115423</td>\n",
              "    </tr>\n",
              "    <tr>\n",
              "      <th rowspan=\"3\" valign=\"top\">ученая степень</th>\n",
              "      <th>госслужащий</th>\n",
              "      <td>-5968.075884</td>\n",
              "      <td>111392.231107</td>\n",
              "    </tr>\n",
              "    <tr>\n",
              "      <th>пенсионер</th>\n",
              "      <td>376276.219531</td>\n",
              "      <td>255425.196556</td>\n",
              "    </tr>\n",
              "    <tr>\n",
              "      <th>сотрудник</th>\n",
              "      <td>-3851.735057</td>\n",
              "      <td>192180.127162</td>\n",
              "    </tr>\n",
              "  </tbody>\n",
              "</table>\n",
              "</div>"
            ],
            "text/plain": [
              "                                     days_employed   total_income\n",
              "education           income_type                                  \n",
              "ВЫСШЕЕ              госслужащий       -1424.562274  174909.179988\n",
              "                    компаньон         -1423.978136  200701.997023\n",
              "                    пенсионер        367532.282115  165563.164062\n",
              "                    сотрудник         -1602.753306  144683.271465\n",
              "Высшее              безработный      395302.838654  202722.511368\n",
              "                    госслужащий       -3750.610464  161671.347625\n",
              "                    компаньон         -1453.451901  192451.667511\n",
              "                    пенсионер        368379.850772  154962.528710\n",
              "                    сотрудник         -1534.735406  178238.955336\n",
              "НАЧАЛЬНОЕ           компаньон         -1265.943306  190952.908390\n",
              "                    пенсионер        360264.985350   90479.336389\n",
              "                    сотрудник         -1012.313022  212545.366151\n",
              "НЕОКОНЧЕННОЕ ВЫСШЕЕ компаньон          -775.760267  145528.679914\n",
              "                    пенсионер        358732.475441  412386.347106\n",
              "                    сотрудник         -1546.148345  166015.790504\n",
              "Начальное           госслужащий        -301.333707  190912.178349\n",
              "                    компаньон         -1030.219648   88227.830722\n",
              "                    пенсионер        364632.447491   98853.333449\n",
              "                    сотрудник          -852.697747  129895.001992\n",
              "Неоконченное высшее госслужащий       -1178.018163  107224.860090\n",
              "                    компаньон          -711.837088  183379.320368\n",
              "                    пенсионер        396568.887159   83625.583859\n",
              "                    сотрудник         -1653.837028  159115.726175\n",
              "СРЕДНЕЕ             в декрете         -3296.759962   53829.130729\n",
              "                    госслужащий       -3356.097160  132756.053048\n",
              "                    компаньон         -1945.914306  157308.365600\n",
              "                    пенсионер        363541.465259  113656.027279\n",
              "                    сотрудник         -1567.112656  135823.934197\n",
              "Среднее             госслужащий       -2291.747052  148529.629601\n",
              "                    компаньон         -1863.730566  149190.998579\n",
              "                    пенсионер        363995.316389  128155.229215\n",
              "                    сотрудник         -1730.667138  133399.107243\n",
              "УЧЕНАЯ СТЕПЕНЬ      сотрудник          -409.200149  198570.757322\n",
              "Ученая степень      пенсионер        337584.815560   98752.495442\n",
              "высшее              госслужащий       -2577.299850  172511.107016\n",
              "                    компаньон         -1461.167287  201911.716329\n",
              "                    пенсионер        366157.236636  142825.046222\n",
              "                    предприниматель    -520.848083  499163.144947\n",
              "                    сотрудник         -1548.646517  166164.078024\n",
              "                    студент            -578.751554   98201.625314\n",
              "начальное           госслужащий       -3043.933615  105766.403301\n",
              "                    компаньон         -1166.810199  170077.891115\n",
              "                    пенсионер        358777.901745  104505.757848\n",
              "                    сотрудник         -1261.719742  124298.759469\n",
              "неоконченное высшее госслужащий       -2038.132156  165106.669771\n",
              "                    компаньон         -1032.968329  179867.152890\n",
              "                    пенсионер        371193.915404  122706.716059\n",
              "                    сотрудник         -1158.032596  149551.191876\n",
              "среднее             безработный      337524.466835   59956.991984\n",
              "                    госслужащий       -2856.781570  136652.970357\n",
              "                    компаньон         -1645.331963  159652.900458\n",
              "                    пенсионер        365232.442222  114483.373934\n",
              "                    сотрудник         -1607.383724  136818.115423\n",
              "ученая степень      госслужащий       -5968.075884  111392.231107\n",
              "                    пенсионер        376276.219531  255425.196556\n",
              "                    сотрудник         -3851.735057  192180.127162"
            ]
          },
          "metadata": {
            "tags": []
          },
          "execution_count": 17
        }
      ]
    },
    {
      "cell_type": "code",
      "metadata": {
        "id": "abAp6f6mqTuL",
        "colab_type": "code",
        "colab": {}
      },
      "source": [
        "# Create a function to fill in the missing values in 'days_employed' column\n",
        "def fill_days_employed(row):\n",
        "    return median_values.loc[row['education']].loc[row['income_type']]['days_employed']"
      ],
      "execution_count": 0,
      "outputs": []
    },
    {
      "cell_type": "code",
      "metadata": {
        "id": "VCa92n0QV_El",
        "colab_type": "code",
        "colab": {}
      },
      "source": [
        "customer_solvency.loc[\n",
        "    customer_solvency['days_employed'].isnull(), 'days_employed'\n",
        "] = customer_solvency.apply(fill_days_employed, axis=1)"
      ],
      "execution_count": 0,
      "outputs": []
    },
    {
      "cell_type": "code",
      "metadata": {
        "id": "dBVN1k88WIOu",
        "colab_type": "code",
        "colab": {
          "base_uri": "https://localhost:8080/",
          "height": 35
        },
        "outputId": "67ed25c2-be8c-4442-b0de-e2a9c09e48c7"
      },
      "source": [
        "customer_solvency['days_employed'].isnull().sum()"
      ],
      "execution_count": 23,
      "outputs": [
        {
          "output_type": "execute_result",
          "data": {
            "text/plain": [
              "0"
            ]
          },
          "metadata": {
            "tags": []
          },
          "execution_count": 23
        }
      ]
    },
    {
      "cell_type": "code",
      "metadata": {
        "id": "jeC15SJiWEJ6",
        "colab_type": "code",
        "colab": {}
      },
      "source": [
        "# Create a function to fill in the missing values in 'total_income' column\n",
        "def fill_total_income(row):\n",
        "    return median_values.loc[row['education']].loc[row['income_type']]['total_income']"
      ],
      "execution_count": 0,
      "outputs": []
    },
    {
      "cell_type": "code",
      "metadata": {
        "id": "8kZwqNeBWjWV",
        "colab_type": "code",
        "colab": {}
      },
      "source": [
        "customer_solvency.loc[\n",
        "    customer_solvency['total_income'].isnull(), 'total_income'\n",
        "] = customer_solvency.apply(fill_total_income, axis=1)"
      ],
      "execution_count": 0,
      "outputs": []
    },
    {
      "cell_type": "code",
      "metadata": {
        "id": "QJfU8KCUWpY3",
        "colab_type": "code",
        "colab": {
          "base_uri": "https://localhost:8080/",
          "height": 35
        },
        "outputId": "a26f4c0c-fddb-45af-e0e5-e579d7871957"
      },
      "source": [
        "customer_solvency['total_income'].isnull().sum()"
      ],
      "execution_count": 26,
      "outputs": [
        {
          "output_type": "execute_result",
          "data": {
            "text/plain": [
              "0"
            ]
          },
          "metadata": {
            "tags": []
          },
          "execution_count": 26
        }
      ]
    },
    {
      "cell_type": "code",
      "metadata": {
        "id": "0-MxuLDHWu7E",
        "colab_type": "code",
        "colab": {
          "base_uri": "https://localhost:8080/",
          "height": 649
        },
        "outputId": "1b7a328b-ec31-4047-9d29-eadb1c480606"
      },
      "source": [
        "customer_solvency[customer_solvency['children'] > 5]"
      ],
      "execution_count": 34,
      "outputs": [
        {
          "output_type": "execute_result",
          "data": {
            "text/html": [
              "<div>\n",
              "<style scoped>\n",
              "    .dataframe tbody tr th:only-of-type {\n",
              "        vertical-align: middle;\n",
              "    }\n",
              "\n",
              "    .dataframe tbody tr th {\n",
              "        vertical-align: top;\n",
              "    }\n",
              "\n",
              "    .dataframe thead th {\n",
              "        text-align: right;\n",
              "    }\n",
              "</style>\n",
              "<table border=\"1\" class=\"dataframe\">\n",
              "  <thead>\n",
              "    <tr style=\"text-align: right;\">\n",
              "      <th></th>\n",
              "      <th>children</th>\n",
              "      <th>days_employed</th>\n",
              "      <th>dob_years</th>\n",
              "      <th>education</th>\n",
              "      <th>education_id</th>\n",
              "      <th>family_status</th>\n",
              "      <th>family_status_id</th>\n",
              "      <th>gender</th>\n",
              "      <th>income_type</th>\n",
              "      <th>debt</th>\n",
              "      <th>total_income</th>\n",
              "      <th>purpose</th>\n",
              "    </tr>\n",
              "  </thead>\n",
              "  <tbody>\n",
              "    <tr>\n",
              "      <th>606</th>\n",
              "      <td>20</td>\n",
              "      <td>-880.221113</td>\n",
              "      <td>21</td>\n",
              "      <td>среднее</td>\n",
              "      <td>1</td>\n",
              "      <td>женат / замужем</td>\n",
              "      <td>0</td>\n",
              "      <td>M</td>\n",
              "      <td>компаньон</td>\n",
              "      <td>0</td>\n",
              "      <td>145334.865002</td>\n",
              "      <td>покупка жилья</td>\n",
              "    </tr>\n",
              "    <tr>\n",
              "      <th>720</th>\n",
              "      <td>20</td>\n",
              "      <td>-855.595512</td>\n",
              "      <td>44</td>\n",
              "      <td>среднее</td>\n",
              "      <td>1</td>\n",
              "      <td>женат / замужем</td>\n",
              "      <td>0</td>\n",
              "      <td>F</td>\n",
              "      <td>компаньон</td>\n",
              "      <td>0</td>\n",
              "      <td>112998.738649</td>\n",
              "      <td>покупка недвижимости</td>\n",
              "    </tr>\n",
              "    <tr>\n",
              "      <th>1074</th>\n",
              "      <td>20</td>\n",
              "      <td>-3310.411598</td>\n",
              "      <td>56</td>\n",
              "      <td>среднее</td>\n",
              "      <td>1</td>\n",
              "      <td>женат / замужем</td>\n",
              "      <td>0</td>\n",
              "      <td>F</td>\n",
              "      <td>сотрудник</td>\n",
              "      <td>1</td>\n",
              "      <td>229518.537004</td>\n",
              "      <td>получение образования</td>\n",
              "    </tr>\n",
              "    <tr>\n",
              "      <th>2510</th>\n",
              "      <td>20</td>\n",
              "      <td>-2714.161249</td>\n",
              "      <td>59</td>\n",
              "      <td>высшее</td>\n",
              "      <td>0</td>\n",
              "      <td>вдовец / вдова</td>\n",
              "      <td>2</td>\n",
              "      <td>F</td>\n",
              "      <td>сотрудник</td>\n",
              "      <td>0</td>\n",
              "      <td>264474.835577</td>\n",
              "      <td>операции с коммерческой недвижимостью</td>\n",
              "    </tr>\n",
              "    <tr>\n",
              "      <th>2941</th>\n",
              "      <td>20</td>\n",
              "      <td>-2161.591519</td>\n",
              "      <td>0</td>\n",
              "      <td>среднее</td>\n",
              "      <td>1</td>\n",
              "      <td>женат / замужем</td>\n",
              "      <td>0</td>\n",
              "      <td>F</td>\n",
              "      <td>сотрудник</td>\n",
              "      <td>0</td>\n",
              "      <td>199739.941398</td>\n",
              "      <td>на покупку автомобиля</td>\n",
              "    </tr>\n",
              "    <tr>\n",
              "      <th>...</th>\n",
              "      <td>...</td>\n",
              "      <td>...</td>\n",
              "      <td>...</td>\n",
              "      <td>...</td>\n",
              "      <td>...</td>\n",
              "      <td>...</td>\n",
              "      <td>...</td>\n",
              "      <td>...</td>\n",
              "      <td>...</td>\n",
              "      <td>...</td>\n",
              "      <td>...</td>\n",
              "      <td>...</td>\n",
              "    </tr>\n",
              "    <tr>\n",
              "      <th>21008</th>\n",
              "      <td>20</td>\n",
              "      <td>-1240.257910</td>\n",
              "      <td>40</td>\n",
              "      <td>среднее</td>\n",
              "      <td>1</td>\n",
              "      <td>женат / замужем</td>\n",
              "      <td>0</td>\n",
              "      <td>F</td>\n",
              "      <td>сотрудник</td>\n",
              "      <td>1</td>\n",
              "      <td>133524.010303</td>\n",
              "      <td>свой автомобиль</td>\n",
              "    </tr>\n",
              "    <tr>\n",
              "      <th>21325</th>\n",
              "      <td>20</td>\n",
              "      <td>-601.174883</td>\n",
              "      <td>37</td>\n",
              "      <td>среднее</td>\n",
              "      <td>1</td>\n",
              "      <td>женат / замужем</td>\n",
              "      <td>0</td>\n",
              "      <td>F</td>\n",
              "      <td>компаньон</td>\n",
              "      <td>0</td>\n",
              "      <td>102986.065978</td>\n",
              "      <td>профильное образование</td>\n",
              "    </tr>\n",
              "    <tr>\n",
              "      <th>21390</th>\n",
              "      <td>20</td>\n",
              "      <td>-1645.331963</td>\n",
              "      <td>53</td>\n",
              "      <td>среднее</td>\n",
              "      <td>1</td>\n",
              "      <td>женат / замужем</td>\n",
              "      <td>0</td>\n",
              "      <td>M</td>\n",
              "      <td>компаньон</td>\n",
              "      <td>0</td>\n",
              "      <td>159652.900458</td>\n",
              "      <td>покупка жилой недвижимости</td>\n",
              "    </tr>\n",
              "    <tr>\n",
              "      <th>21404</th>\n",
              "      <td>20</td>\n",
              "      <td>-494.788448</td>\n",
              "      <td>52</td>\n",
              "      <td>среднее</td>\n",
              "      <td>1</td>\n",
              "      <td>женат / замужем</td>\n",
              "      <td>0</td>\n",
              "      <td>M</td>\n",
              "      <td>компаньон</td>\n",
              "      <td>0</td>\n",
              "      <td>156629.683642</td>\n",
              "      <td>операции со своей недвижимостью</td>\n",
              "    </tr>\n",
              "    <tr>\n",
              "      <th>21491</th>\n",
              "      <td>20</td>\n",
              "      <td>-173.954460</td>\n",
              "      <td>27</td>\n",
              "      <td>среднее</td>\n",
              "      <td>1</td>\n",
              "      <td>женат / замужем</td>\n",
              "      <td>0</td>\n",
              "      <td>F</td>\n",
              "      <td>сотрудник</td>\n",
              "      <td>0</td>\n",
              "      <td>155520.899688</td>\n",
              "      <td>на покупку подержанного автомобиля</td>\n",
              "    </tr>\n",
              "  </tbody>\n",
              "</table>\n",
              "<p>76 rows × 12 columns</p>\n",
              "</div>"
            ],
            "text/plain": [
              "       children  ...                                purpose\n",
              "606          20  ...                          покупка жилья\n",
              "720          20  ...                   покупка недвижимости\n",
              "1074         20  ...                  получение образования\n",
              "2510         20  ...  операции с коммерческой недвижимостью\n",
              "2941         20  ...                  на покупку автомобиля\n",
              "...         ...  ...                                    ...\n",
              "21008        20  ...                        свой автомобиль\n",
              "21325        20  ...                 профильное образование\n",
              "21390        20  ...             покупка жилой недвижимости\n",
              "21404        20  ...        операции со своей недвижимостью\n",
              "21491        20  ...     на покупку подержанного автомобиля\n",
              "\n",
              "[76 rows x 12 columns]"
            ]
          },
          "metadata": {
            "tags": []
          },
          "execution_count": 34
        }
      ]
    },
    {
      "cell_type": "code",
      "metadata": {
        "id": "N4AYU72UXJhQ",
        "colab_type": "code",
        "colab": {
          "base_uri": "https://localhost:8080/",
          "height": 144
        },
        "outputId": "11c16889-e4f7-4ee3-cba5-d3043ed06ddb"
      },
      "source": [
        "# Remove values that represent more than 5 children (actually 20 children, which is definitely an error)\n",
        "customer_solvency = customer_solvency[(customer_solvency['children'] >= 0) & (customer_solvency['children'] <= 5)]\n",
        "customer_solvency.sort_values('children')['children'].value_counts().sort_index()"
      ],
      "execution_count": 36,
      "outputs": [
        {
          "output_type": "execute_result",
          "data": {
            "text/plain": [
              "0    14149\n",
              "1     4818\n",
              "2     2055\n",
              "3      330\n",
              "4       41\n",
              "5        9\n",
              "Name: children, dtype: int64"
            ]
          },
          "metadata": {
            "tags": []
          },
          "execution_count": 36
        }
      ]
    },
    {
      "cell_type": "code",
      "metadata": {
        "id": "aG4PIdO5YO8h",
        "colab_type": "code",
        "colab": {
          "base_uri": "https://localhost:8080/",
          "height": 35
        },
        "outputId": "c8e5898c-de80-4525-8f20-963fbab37a9f"
      },
      "source": [
        "customer_solvency.shape"
      ],
      "execution_count": 38,
      "outputs": [
        {
          "output_type": "execute_result",
          "data": {
            "text/plain": [
              "(21402, 12)"
            ]
          },
          "metadata": {
            "tags": []
          },
          "execution_count": 38
        }
      ]
    },
    {
      "cell_type": "code",
      "metadata": {
        "id": "3DCI15v1YWyX",
        "colab_type": "code",
        "colab": {
          "base_uri": "https://localhost:8080/",
          "height": 303
        },
        "outputId": "b0d3334e-e0eb-4235-e3e2-7eee8b8ccbe6"
      },
      "source": [
        "# Replace float values by absolute values\n",
        "customer_solvency['days_employed'] = customer_solvency['days_employed'].astype('int').apply(abs)\n",
        "customer_solvency.head()"
      ],
      "execution_count": 40,
      "outputs": [
        {
          "output_type": "execute_result",
          "data": {
            "text/html": [
              "<div>\n",
              "<style scoped>\n",
              "    .dataframe tbody tr th:only-of-type {\n",
              "        vertical-align: middle;\n",
              "    }\n",
              "\n",
              "    .dataframe tbody tr th {\n",
              "        vertical-align: top;\n",
              "    }\n",
              "\n",
              "    .dataframe thead th {\n",
              "        text-align: right;\n",
              "    }\n",
              "</style>\n",
              "<table border=\"1\" class=\"dataframe\">\n",
              "  <thead>\n",
              "    <tr style=\"text-align: right;\">\n",
              "      <th></th>\n",
              "      <th>children</th>\n",
              "      <th>days_employed</th>\n",
              "      <th>dob_years</th>\n",
              "      <th>education</th>\n",
              "      <th>education_id</th>\n",
              "      <th>family_status</th>\n",
              "      <th>family_status_id</th>\n",
              "      <th>gender</th>\n",
              "      <th>income_type</th>\n",
              "      <th>debt</th>\n",
              "      <th>total_income</th>\n",
              "      <th>purpose</th>\n",
              "    </tr>\n",
              "  </thead>\n",
              "  <tbody>\n",
              "    <tr>\n",
              "      <th>0</th>\n",
              "      <td>1</td>\n",
              "      <td>8437</td>\n",
              "      <td>42</td>\n",
              "      <td>высшее</td>\n",
              "      <td>0</td>\n",
              "      <td>женат / замужем</td>\n",
              "      <td>0</td>\n",
              "      <td>F</td>\n",
              "      <td>сотрудник</td>\n",
              "      <td>0</td>\n",
              "      <td>253875.639453</td>\n",
              "      <td>покупка жилья</td>\n",
              "    </tr>\n",
              "    <tr>\n",
              "      <th>1</th>\n",
              "      <td>1</td>\n",
              "      <td>4024</td>\n",
              "      <td>36</td>\n",
              "      <td>среднее</td>\n",
              "      <td>1</td>\n",
              "      <td>женат / замужем</td>\n",
              "      <td>0</td>\n",
              "      <td>F</td>\n",
              "      <td>сотрудник</td>\n",
              "      <td>0</td>\n",
              "      <td>112080.014102</td>\n",
              "      <td>приобретение автомобиля</td>\n",
              "    </tr>\n",
              "    <tr>\n",
              "      <th>2</th>\n",
              "      <td>0</td>\n",
              "      <td>5623</td>\n",
              "      <td>33</td>\n",
              "      <td>Среднее</td>\n",
              "      <td>1</td>\n",
              "      <td>женат / замужем</td>\n",
              "      <td>0</td>\n",
              "      <td>M</td>\n",
              "      <td>сотрудник</td>\n",
              "      <td>0</td>\n",
              "      <td>145885.952297</td>\n",
              "      <td>покупка жилья</td>\n",
              "    </tr>\n",
              "    <tr>\n",
              "      <th>3</th>\n",
              "      <td>3</td>\n",
              "      <td>4124</td>\n",
              "      <td>32</td>\n",
              "      <td>среднее</td>\n",
              "      <td>1</td>\n",
              "      <td>женат / замужем</td>\n",
              "      <td>0</td>\n",
              "      <td>M</td>\n",
              "      <td>сотрудник</td>\n",
              "      <td>0</td>\n",
              "      <td>267628.550329</td>\n",
              "      <td>дополнительное образование</td>\n",
              "    </tr>\n",
              "    <tr>\n",
              "      <th>4</th>\n",
              "      <td>0</td>\n",
              "      <td>340266</td>\n",
              "      <td>53</td>\n",
              "      <td>среднее</td>\n",
              "      <td>1</td>\n",
              "      <td>гражданский брак</td>\n",
              "      <td>1</td>\n",
              "      <td>F</td>\n",
              "      <td>пенсионер</td>\n",
              "      <td>0</td>\n",
              "      <td>158616.077870</td>\n",
              "      <td>сыграть свадьбу</td>\n",
              "    </tr>\n",
              "  </tbody>\n",
              "</table>\n",
              "</div>"
            ],
            "text/plain": [
              "   children  days_employed  ...   total_income                     purpose\n",
              "0         1           8437  ...  253875.639453               покупка жилья\n",
              "1         1           4024  ...  112080.014102     приобретение автомобиля\n",
              "2         0           5623  ...  145885.952297               покупка жилья\n",
              "3         3           4124  ...  267628.550329  дополнительное образование\n",
              "4         0         340266  ...  158616.077870             сыграть свадьбу\n",
              "\n",
              "[5 rows x 12 columns]"
            ]
          },
          "metadata": {
            "tags": []
          },
          "execution_count": 40
        }
      ]
    },
    {
      "cell_type": "code",
      "metadata": {
        "id": "GM-rO0YSYl02",
        "colab_type": "code",
        "colab": {}
      },
      "source": [
        "# Remove dublicates by unification of register\n",
        "customer_solvency['education'] = customer_solvency['education'].str.lower()"
      ],
      "execution_count": 0,
      "outputs": []
    },
    {
      "cell_type": "code",
      "metadata": {
        "id": "ZdC5Ge8jZJzL",
        "colab_type": "code",
        "colab": {
          "base_uri": "https://localhost:8080/",
          "height": 126
        },
        "outputId": "44043022-cd9f-461b-9573-867d97cd697f"
      },
      "source": [
        "customer_solvency.sort_values('education')['education'].value_counts()"
      ],
      "execution_count": 42,
      "outputs": [
        {
          "output_type": "execute_result",
          "data": {
            "text/plain": [
              "среднее                15136\n",
              "высшее                  5237\n",
              "неоконченное высшее      741\n",
              "начальное                282\n",
              "ученая степень             6\n",
              "Name: education, dtype: int64"
            ]
          },
          "metadata": {
            "tags": []
          },
          "execution_count": 42
        }
      ]
    },
    {
      "cell_type": "markdown",
      "metadata": {
        "id": "kfJqZr4jbTB9",
        "colab_type": "text"
      },
      "source": [
        "##__Analysis of correlation between parenting and solvency__\n",
        "\n",
        "Let's categorize our dataset into three categories based on number of children:\n",
        "\n",
        "* 0 – бездетная (no children)\n",
        "* 1 – однодетная (one-child family)\n",
        "* 2 – малодетная (small family)\n",
        "* 3+ – многодетная (large family)"
      ]
    },
    {
      "cell_type": "code",
      "metadata": {
        "id": "OPmY_gdOZpRx",
        "colab_type": "code",
        "colab": {}
      },
      "source": [
        "def categorize_children(count):\n",
        "    categories = {\n",
        "        0: 'бездетная',\n",
        "        1: 'однодетная',\n",
        "        2: 'малодетная'\n",
        "    }\n",
        "\n",
        "    return categories.get(count, 'многодетная')"
      ],
      "execution_count": 0,
      "outputs": []
    },
    {
      "cell_type": "code",
      "metadata": {
        "id": "oEPUfZBHcCwR",
        "colab_type": "code",
        "colab": {
          "base_uri": "https://localhost:8080/",
          "height": 303
        },
        "outputId": "aa33e3fd-cf29-4b87-c233-1e1181593297"
      },
      "source": [
        "customer_solvency['children_category'] = customer_solvency['children'].apply(categorize_children)\n",
        "customer_solvency.head()"
      ],
      "execution_count": 56,
      "outputs": [
        {
          "output_type": "execute_result",
          "data": {
            "text/html": [
              "<div>\n",
              "<style scoped>\n",
              "    .dataframe tbody tr th:only-of-type {\n",
              "        vertical-align: middle;\n",
              "    }\n",
              "\n",
              "    .dataframe tbody tr th {\n",
              "        vertical-align: top;\n",
              "    }\n",
              "\n",
              "    .dataframe thead th {\n",
              "        text-align: right;\n",
              "    }\n",
              "</style>\n",
              "<table border=\"1\" class=\"dataframe\">\n",
              "  <thead>\n",
              "    <tr style=\"text-align: right;\">\n",
              "      <th></th>\n",
              "      <th>children</th>\n",
              "      <th>days_employed</th>\n",
              "      <th>dob_years</th>\n",
              "      <th>education</th>\n",
              "      <th>education_id</th>\n",
              "      <th>family_status</th>\n",
              "      <th>family_status_id</th>\n",
              "      <th>gender</th>\n",
              "      <th>income_type</th>\n",
              "      <th>debt</th>\n",
              "      <th>total_income</th>\n",
              "      <th>purpose</th>\n",
              "      <th>children_category</th>\n",
              "    </tr>\n",
              "  </thead>\n",
              "  <tbody>\n",
              "    <tr>\n",
              "      <th>0</th>\n",
              "      <td>1</td>\n",
              "      <td>8437</td>\n",
              "      <td>42</td>\n",
              "      <td>высшее</td>\n",
              "      <td>0</td>\n",
              "      <td>женат / замужем</td>\n",
              "      <td>0</td>\n",
              "      <td>F</td>\n",
              "      <td>сотрудник</td>\n",
              "      <td>0</td>\n",
              "      <td>253875.639453</td>\n",
              "      <td>покупка жилья</td>\n",
              "      <td>однодетная</td>\n",
              "    </tr>\n",
              "    <tr>\n",
              "      <th>1</th>\n",
              "      <td>1</td>\n",
              "      <td>4024</td>\n",
              "      <td>36</td>\n",
              "      <td>среднее</td>\n",
              "      <td>1</td>\n",
              "      <td>женат / замужем</td>\n",
              "      <td>0</td>\n",
              "      <td>F</td>\n",
              "      <td>сотрудник</td>\n",
              "      <td>0</td>\n",
              "      <td>112080.014102</td>\n",
              "      <td>приобретение автомобиля</td>\n",
              "      <td>однодетная</td>\n",
              "    </tr>\n",
              "    <tr>\n",
              "      <th>2</th>\n",
              "      <td>0</td>\n",
              "      <td>5623</td>\n",
              "      <td>33</td>\n",
              "      <td>среднее</td>\n",
              "      <td>1</td>\n",
              "      <td>женат / замужем</td>\n",
              "      <td>0</td>\n",
              "      <td>M</td>\n",
              "      <td>сотрудник</td>\n",
              "      <td>0</td>\n",
              "      <td>145885.952297</td>\n",
              "      <td>покупка жилья</td>\n",
              "      <td>бездетная</td>\n",
              "    </tr>\n",
              "    <tr>\n",
              "      <th>3</th>\n",
              "      <td>3</td>\n",
              "      <td>4124</td>\n",
              "      <td>32</td>\n",
              "      <td>среднее</td>\n",
              "      <td>1</td>\n",
              "      <td>женат / замужем</td>\n",
              "      <td>0</td>\n",
              "      <td>M</td>\n",
              "      <td>сотрудник</td>\n",
              "      <td>0</td>\n",
              "      <td>267628.550329</td>\n",
              "      <td>дополнительное образование</td>\n",
              "      <td>многодетная</td>\n",
              "    </tr>\n",
              "    <tr>\n",
              "      <th>4</th>\n",
              "      <td>0</td>\n",
              "      <td>340266</td>\n",
              "      <td>53</td>\n",
              "      <td>среднее</td>\n",
              "      <td>1</td>\n",
              "      <td>гражданский брак</td>\n",
              "      <td>1</td>\n",
              "      <td>F</td>\n",
              "      <td>пенсионер</td>\n",
              "      <td>0</td>\n",
              "      <td>158616.077870</td>\n",
              "      <td>сыграть свадьбу</td>\n",
              "      <td>бездетная</td>\n",
              "    </tr>\n",
              "  </tbody>\n",
              "</table>\n",
              "</div>"
            ],
            "text/plain": [
              "   children  days_employed  ...                     purpose children_category\n",
              "0         1           8437  ...               покупка жилья        однодетная\n",
              "1         1           4024  ...     приобретение автомобиля        однодетная\n",
              "2         0           5623  ...               покупка жилья         бездетная\n",
              "3         3           4124  ...  дополнительное образование       многодетная\n",
              "4         0         340266  ...             сыграть свадьбу         бездетная\n",
              "\n",
              "[5 rows x 13 columns]"
            ]
          },
          "metadata": {
            "tags": []
          },
          "execution_count": 56
        }
      ]
    },
    {
      "cell_type": "code",
      "metadata": {
        "id": "Ef6TxpCT0n4v",
        "colab_type": "code",
        "colab": {
          "base_uri": "https://localhost:8080/",
          "height": 197
        },
        "outputId": "03c07841-71d9-481d-fe9c-c8392561899c"
      },
      "source": [
        "pd.pivot_table(customer_solvency, index='children_category', values='debt')"
      ],
      "execution_count": 61,
      "outputs": [
        {
          "output_type": "execute_result",
          "data": {
            "text/html": [
              "<div>\n",
              "<style scoped>\n",
              "    .dataframe tbody tr th:only-of-type {\n",
              "        vertical-align: middle;\n",
              "    }\n",
              "\n",
              "    .dataframe tbody tr th {\n",
              "        vertical-align: top;\n",
              "    }\n",
              "\n",
              "    .dataframe thead th {\n",
              "        text-align: right;\n",
              "    }\n",
              "</style>\n",
              "<table border=\"1\" class=\"dataframe\">\n",
              "  <thead>\n",
              "    <tr style=\"text-align: right;\">\n",
              "      <th></th>\n",
              "      <th>debt</th>\n",
              "    </tr>\n",
              "    <tr>\n",
              "      <th>children_category</th>\n",
              "      <th></th>\n",
              "    </tr>\n",
              "  </thead>\n",
              "  <tbody>\n",
              "    <tr>\n",
              "      <th>бездетная</th>\n",
              "      <td>0.075129</td>\n",
              "    </tr>\n",
              "    <tr>\n",
              "      <th>малодетная</th>\n",
              "      <td>0.094404</td>\n",
              "    </tr>\n",
              "    <tr>\n",
              "      <th>многодетная</th>\n",
              "      <td>0.081579</td>\n",
              "    </tr>\n",
              "    <tr>\n",
              "      <th>однодетная</th>\n",
              "      <td>0.092154</td>\n",
              "    </tr>\n",
              "  </tbody>\n",
              "</table>\n",
              "</div>"
            ],
            "text/plain": [
              "                       debt\n",
              "children_category          \n",
              "бездетная          0.075129\n",
              "малодетная         0.094404\n",
              "многодетная        0.081579\n",
              "однодетная         0.092154"
            ]
          },
          "metadata": {
            "tags": []
          },
          "execution_count": 61
        }
      ]
    },
    {
      "cell_type": "markdown",
      "metadata": {
        "id": "cDSVSgUV0s1-",
        "colab_type": "text"
      },
      "source": [
        "__Conclusion:__ there is no strict correlation between the number of children and solvency, except for \"no-child\" families. They have a little bit less debt than others"
      ]
    },
    {
      "cell_type": "markdown",
      "metadata": {
        "id": "Kjhi9Neq1Y5P",
        "colab_type": "text"
      },
      "source": [
        "##__Analysis of correlation between marital status and solvency__"
      ]
    },
    {
      "cell_type": "code",
      "metadata": {
        "id": "Y_vGFRBrcJeS",
        "colab_type": "code",
        "colab": {}
      },
      "source": [
        "# Categorize family status as \"married/not-married\"\n",
        "def categorize_family_status(value):\n",
        "    if value == 'женат / замужем':\n",
        "        return 'в браке'\n",
        "    \n",
        "    return 'не в браке'"
      ],
      "execution_count": 0,
      "outputs": []
    },
    {
      "cell_type": "code",
      "metadata": {
        "id": "cWEOR36busLa",
        "colab_type": "code",
        "colab": {}
      },
      "source": [
        "customer_solvency['family_status_category'] = customer_solvency['family_status'].apply(categorize_family_status)"
      ],
      "execution_count": 0,
      "outputs": []
    },
    {
      "cell_type": "code",
      "metadata": {
        "id": "d7vJ97S2vL7G",
        "colab_type": "code",
        "colab": {
          "base_uri": "https://localhost:8080/",
          "height": 303
        },
        "outputId": "fc7644ab-27ce-4bf7-cdfa-6d99658e8810"
      },
      "source": [
        "customer_solvency.head()"
      ],
      "execution_count": 60,
      "outputs": [
        {
          "output_type": "execute_result",
          "data": {
            "text/html": [
              "<div>\n",
              "<style scoped>\n",
              "    .dataframe tbody tr th:only-of-type {\n",
              "        vertical-align: middle;\n",
              "    }\n",
              "\n",
              "    .dataframe tbody tr th {\n",
              "        vertical-align: top;\n",
              "    }\n",
              "\n",
              "    .dataframe thead th {\n",
              "        text-align: right;\n",
              "    }\n",
              "</style>\n",
              "<table border=\"1\" class=\"dataframe\">\n",
              "  <thead>\n",
              "    <tr style=\"text-align: right;\">\n",
              "      <th></th>\n",
              "      <th>children</th>\n",
              "      <th>days_employed</th>\n",
              "      <th>dob_years</th>\n",
              "      <th>education</th>\n",
              "      <th>education_id</th>\n",
              "      <th>family_status</th>\n",
              "      <th>family_status_id</th>\n",
              "      <th>gender</th>\n",
              "      <th>income_type</th>\n",
              "      <th>debt</th>\n",
              "      <th>total_income</th>\n",
              "      <th>purpose</th>\n",
              "      <th>children_category</th>\n",
              "      <th>family_status_category</th>\n",
              "    </tr>\n",
              "  </thead>\n",
              "  <tbody>\n",
              "    <tr>\n",
              "      <th>0</th>\n",
              "      <td>1</td>\n",
              "      <td>8437</td>\n",
              "      <td>42</td>\n",
              "      <td>высшее</td>\n",
              "      <td>0</td>\n",
              "      <td>женат / замужем</td>\n",
              "      <td>0</td>\n",
              "      <td>F</td>\n",
              "      <td>сотрудник</td>\n",
              "      <td>0</td>\n",
              "      <td>253875.639453</td>\n",
              "      <td>покупка жилья</td>\n",
              "      <td>однодетная</td>\n",
              "      <td>в браке</td>\n",
              "    </tr>\n",
              "    <tr>\n",
              "      <th>1</th>\n",
              "      <td>1</td>\n",
              "      <td>4024</td>\n",
              "      <td>36</td>\n",
              "      <td>среднее</td>\n",
              "      <td>1</td>\n",
              "      <td>женат / замужем</td>\n",
              "      <td>0</td>\n",
              "      <td>F</td>\n",
              "      <td>сотрудник</td>\n",
              "      <td>0</td>\n",
              "      <td>112080.014102</td>\n",
              "      <td>приобретение автомобиля</td>\n",
              "      <td>однодетная</td>\n",
              "      <td>в браке</td>\n",
              "    </tr>\n",
              "    <tr>\n",
              "      <th>2</th>\n",
              "      <td>0</td>\n",
              "      <td>5623</td>\n",
              "      <td>33</td>\n",
              "      <td>среднее</td>\n",
              "      <td>1</td>\n",
              "      <td>женат / замужем</td>\n",
              "      <td>0</td>\n",
              "      <td>M</td>\n",
              "      <td>сотрудник</td>\n",
              "      <td>0</td>\n",
              "      <td>145885.952297</td>\n",
              "      <td>покупка жилья</td>\n",
              "      <td>бездетная</td>\n",
              "      <td>в браке</td>\n",
              "    </tr>\n",
              "    <tr>\n",
              "      <th>3</th>\n",
              "      <td>3</td>\n",
              "      <td>4124</td>\n",
              "      <td>32</td>\n",
              "      <td>среднее</td>\n",
              "      <td>1</td>\n",
              "      <td>женат / замужем</td>\n",
              "      <td>0</td>\n",
              "      <td>M</td>\n",
              "      <td>сотрудник</td>\n",
              "      <td>0</td>\n",
              "      <td>267628.550329</td>\n",
              "      <td>дополнительное образование</td>\n",
              "      <td>многодетная</td>\n",
              "      <td>в браке</td>\n",
              "    </tr>\n",
              "    <tr>\n",
              "      <th>4</th>\n",
              "      <td>0</td>\n",
              "      <td>340266</td>\n",
              "      <td>53</td>\n",
              "      <td>среднее</td>\n",
              "      <td>1</td>\n",
              "      <td>гражданский брак</td>\n",
              "      <td>1</td>\n",
              "      <td>F</td>\n",
              "      <td>пенсионер</td>\n",
              "      <td>0</td>\n",
              "      <td>158616.077870</td>\n",
              "      <td>сыграть свадьбу</td>\n",
              "      <td>бездетная</td>\n",
              "      <td>не в браке</td>\n",
              "    </tr>\n",
              "  </tbody>\n",
              "</table>\n",
              "</div>"
            ],
            "text/plain": [
              "   children  days_employed  ...  children_category family_status_category\n",
              "0         1           8437  ...         однодетная                в браке\n",
              "1         1           4024  ...         однодетная                в браке\n",
              "2         0           5623  ...          бездетная                в браке\n",
              "3         3           4124  ...        многодетная                в браке\n",
              "4         0         340266  ...          бездетная             не в браке\n",
              "\n",
              "[5 rows x 14 columns]"
            ]
          },
          "metadata": {
            "tags": []
          },
          "execution_count": 60
        }
      ]
    },
    {
      "cell_type": "code",
      "metadata": {
        "id": "co5VGmlovOM3",
        "colab_type": "code",
        "colab": {
          "base_uri": "https://localhost:8080/",
          "height": 138
        },
        "outputId": "25ded56e-9e5a-4223-8871-840f6df8765c"
      },
      "source": [
        "pd.pivot_table(customer_solvency, index='family_status_category', values='debt')"
      ],
      "execution_count": 62,
      "outputs": [
        {
          "output_type": "execute_result",
          "data": {
            "text/html": [
              "<div>\n",
              "<style scoped>\n",
              "    .dataframe tbody tr th:only-of-type {\n",
              "        vertical-align: middle;\n",
              "    }\n",
              "\n",
              "    .dataframe tbody tr th {\n",
              "        vertical-align: top;\n",
              "    }\n",
              "\n",
              "    .dataframe thead th {\n",
              "        text-align: right;\n",
              "    }\n",
              "</style>\n",
              "<table border=\"1\" class=\"dataframe\">\n",
              "  <thead>\n",
              "    <tr style=\"text-align: right;\">\n",
              "      <th></th>\n",
              "      <th>debt</th>\n",
              "    </tr>\n",
              "    <tr>\n",
              "      <th>family_status_category</th>\n",
              "      <th></th>\n",
              "    </tr>\n",
              "  </thead>\n",
              "  <tbody>\n",
              "    <tr>\n",
              "      <th>в браке</th>\n",
              "      <td>0.075354</td>\n",
              "    </tr>\n",
              "    <tr>\n",
              "      <th>не в браке</th>\n",
              "      <td>0.088462</td>\n",
              "    </tr>\n",
              "  </tbody>\n",
              "</table>\n",
              "</div>"
            ],
            "text/plain": [
              "                            debt\n",
              "family_status_category          \n",
              "в браке                 0.075354\n",
              "не в браке              0.088462"
            ]
          },
          "metadata": {
            "tags": []
          },
          "execution_count": 62
        }
      ]
    },
    {
      "cell_type": "markdown",
      "metadata": {
        "id": "6A1c4oFy1mdf",
        "colab_type": "text"
      },
      "source": [
        "__Conclusion:__ again, the difference between single and married debtors are not significant, only 1%"
      ]
    }
  ]
}