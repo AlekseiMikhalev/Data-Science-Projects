{
  "nbformat": 4,
  "nbformat_minor": 0,
  "metadata": {
    "colab": {
      "name": "News Summarizer.ipynb",
      "provenance": [],
      "collapsed_sections": [],
      "authorship_tag": "ABX9TyPImkhgCj6QnLsx8TD7OcrN",
      "include_colab_link": true
    },
    "kernelspec": {
      "name": "python3",
      "display_name": "Python 3"
    }
  },
  "cells": [
    {
      "cell_type": "markdown",
      "metadata": {
        "id": "view-in-github",
        "colab_type": "text"
      },
      "source": [
        "<a href=\"https://colab.research.google.com/github/AlekseiMikhalev/Data-Science-Projects/blob/master/News_Summarizer.ipynb\" target=\"_parent\"><img src=\"https://colab.research.google.com/assets/colab-badge.svg\" alt=\"Open In Colab\"/></a>"
      ]
    },
    {
      "cell_type": "markdown",
      "metadata": {
        "id": "MBWO1V87eHjV",
        "colab_type": "text"
      },
      "source": [
        "# __Description: Scrape and Summarize News Articles__\n",
        "\n",
        "\n",
        "\n",
        "__Resources:__\n",
        "\n",
        "Documentation: https://newspaper.readthedocs.io/en/latest/?source=post_page\n",
        "\n",
        "Medium Article: https://towardsdatascience.com/scrape-and-summarize-news-articles-in-5-lines-of-python-code-175f0e5c7dfc\n",
        "\n",
        "Article Website: https://www.washingtonpost.com/technology/2019/07/17/you-downloaded-faceapp-heres-what-youve-just-done-your-privacy/?noredirect=on&utm_term=.f8b0b55b2805\n",
        "\n",
        "The initial code was taken from here: https://github.com/randerson112358/Python/blob/master/News_Article.ipynb"
      ]
    },
    {
      "cell_type": "code",
      "metadata": {
        "id": "VTXyuCMZdw18",
        "colab_type": "code",
        "outputId": "960738e5-2bc2-45d2-b7cb-1c0a9ad0cdc9",
        "colab": {
          "base_uri": "https://localhost:8080/",
          "height": 941
        }
      },
      "source": [
        "!pip install nltk\n",
        "!pip install newspaper3k\n",
        "\n",
        "#Import the libraries\n",
        "import nltk\n",
        "from newspaper import Article"
      ],
      "execution_count": 0,
      "outputs": [
        {
          "output_type": "stream",
          "text": [
            "Requirement already satisfied: nltk in /usr/local/lib/python3.6/dist-packages (3.2.5)\n",
            "Requirement already satisfied: six in /usr/local/lib/python3.6/dist-packages (from nltk) (1.12.0)\n",
            "Collecting newspaper3k\n",
            "\u001b[?25l  Downloading https://files.pythonhosted.org/packages/d7/b9/51afecb35bb61b188a4b44868001de348a0e8134b4dfa00ffc191567c4b9/newspaper3k-0.2.8-py3-none-any.whl (211kB)\n",
            "\u001b[K     |████████████████████████████████| 215kB 4.6MB/s \n",
            "\u001b[?25hRequirement already satisfied: beautifulsoup4>=4.4.1 in /usr/local/lib/python3.6/dist-packages (from newspaper3k) (4.6.3)\n",
            "Collecting cssselect>=0.9.2\n",
            "  Downloading https://files.pythonhosted.org/packages/3b/d4/3b5c17f00cce85b9a1e6f91096e1cc8e8ede2e1be8e96b87ce1ed09e92c5/cssselect-1.1.0-py2.py3-none-any.whl\n",
            "Requirement already satisfied: nltk>=3.2.1 in /usr/local/lib/python3.6/dist-packages (from newspaper3k) (3.2.5)\n",
            "Requirement already satisfied: requests>=2.10.0 in /usr/local/lib/python3.6/dist-packages (from newspaper3k) (2.21.0)\n",
            "Requirement already satisfied: lxml>=3.6.0 in /usr/local/lib/python3.6/dist-packages (from newspaper3k) (4.2.6)\n",
            "Collecting feedparser>=5.2.1\n",
            "\u001b[?25l  Downloading https://files.pythonhosted.org/packages/91/d8/7d37fec71ff7c9dbcdd80d2b48bcdd86d6af502156fc93846fb0102cb2c4/feedparser-5.2.1.tar.bz2 (192kB)\n",
            "\u001b[K     |████████████████████████████████| 194kB 6.9MB/s \n",
            "\u001b[?25hRequirement already satisfied: Pillow>=3.3.0 in /usr/local/lib/python3.6/dist-packages (from newspaper3k) (7.0.0)\n",
            "Requirement already satisfied: PyYAML>=3.11 in /usr/local/lib/python3.6/dist-packages (from newspaper3k) (3.13)\n",
            "Collecting tldextract>=2.0.1\n",
            "\u001b[?25l  Downloading https://files.pythonhosted.org/packages/fd/0e/9ab599d6e78f0340bb1d1e28ddeacb38c8bb7f91a1b0eae9a24e9603782f/tldextract-2.2.2-py2.py3-none-any.whl (48kB)\n",
            "\u001b[K     |████████████████████████████████| 51kB 5.9MB/s \n",
            "\u001b[?25hCollecting jieba3k>=0.35.1\n",
            "\u001b[?25l  Downloading https://files.pythonhosted.org/packages/a9/cb/2c8332bcdc14d33b0bedd18ae0a4981a069c3513e445120da3c3f23a8aaa/jieba3k-0.35.1.zip (7.4MB)\n",
            "\u001b[K     |████████████████████████████████| 7.4MB 10.9MB/s \n",
            "\u001b[?25hRequirement already satisfied: python-dateutil>=2.5.3 in /usr/local/lib/python3.6/dist-packages (from newspaper3k) (2.8.1)\n",
            "Collecting tinysegmenter==0.3\n",
            "  Downloading https://files.pythonhosted.org/packages/17/82/86982e4b6d16e4febc79c2a1d68ee3b707e8a020c5d2bc4af8052d0f136a/tinysegmenter-0.3.tar.gz\n",
            "Collecting feedfinder2>=0.0.4\n",
            "  Downloading https://files.pythonhosted.org/packages/35/82/1251fefec3bb4b03fd966c7e7f7a41c9fc2bb00d823a34c13f847fd61406/feedfinder2-0.0.4.tar.gz\n",
            "Requirement already satisfied: six in /usr/local/lib/python3.6/dist-packages (from nltk>=3.2.1->newspaper3k) (1.12.0)\n",
            "Requirement already satisfied: certifi>=2017.4.17 in /usr/local/lib/python3.6/dist-packages (from requests>=2.10.0->newspaper3k) (2019.11.28)\n",
            "Requirement already satisfied: idna<2.9,>=2.5 in /usr/local/lib/python3.6/dist-packages (from requests>=2.10.0->newspaper3k) (2.8)\n",
            "Requirement already satisfied: urllib3<1.25,>=1.21.1 in /usr/local/lib/python3.6/dist-packages (from requests>=2.10.0->newspaper3k) (1.24.3)\n",
            "Requirement already satisfied: chardet<3.1.0,>=3.0.2 in /usr/local/lib/python3.6/dist-packages (from requests>=2.10.0->newspaper3k) (3.0.4)\n",
            "Collecting requests-file>=1.4\n",
            "  Downloading https://files.pythonhosted.org/packages/23/9c/6e63c23c39e53d3df41c77a3d05a49a42c4e1383a6d2a5e3233161b89dbf/requests_file-1.4.3-py2.py3-none-any.whl\n",
            "Requirement already satisfied: setuptools in /usr/local/lib/python3.6/dist-packages (from tldextract>=2.0.1->newspaper3k) (46.0.0)\n",
            "Building wheels for collected packages: feedparser, jieba3k, tinysegmenter, feedfinder2\n",
            "  Building wheel for feedparser (setup.py) ... \u001b[?25l\u001b[?25hdone\n",
            "  Created wheel for feedparser: filename=feedparser-5.2.1-cp36-none-any.whl size=44940 sha256=1aaac2add3422bfef1512d79ac86cf697dea25631df5e77e326e00dd4ff36257\n",
            "  Stored in directory: /root/.cache/pip/wheels/8c/69/b7/f52763c41c5471df57703a0ef718a32a5e81ee35dcf6d4f97f\n",
            "  Building wheel for jieba3k (setup.py) ... \u001b[?25l\u001b[?25hdone\n",
            "  Created wheel for jieba3k: filename=jieba3k-0.35.1-cp36-none-any.whl size=7398406 sha256=b3dcb52881cd055fc612be4778ace957ca29687592dd3a565786fa1dbeaa2320\n",
            "  Stored in directory: /root/.cache/pip/wheels/83/15/9c/a3f1f67e7f7181170ad37d32e503c35da20627c013f438ed34\n",
            "  Building wheel for tinysegmenter (setup.py) ... \u001b[?25l\u001b[?25hdone\n",
            "  Created wheel for tinysegmenter: filename=tinysegmenter-0.3-cp36-none-any.whl size=13539 sha256=4f29f9715627bcd0dccb401a02a06d5e038a8313493a5741863b39a91f0c709f\n",
            "  Stored in directory: /root/.cache/pip/wheels/81/2b/43/a02ede72324dd40cdd7ca53aad718c7710628e91b8b0dc0f02\n",
            "  Building wheel for feedfinder2 (setup.py) ... \u001b[?25l\u001b[?25hdone\n",
            "  Created wheel for feedfinder2: filename=feedfinder2-0.0.4-cp36-none-any.whl size=3357 sha256=fbb8be55305a446b68662b0c18ce44a0c6cfa2382b2bea867fe809f316728b1e\n",
            "  Stored in directory: /root/.cache/pip/wheels/de/03/ca/778e3a7a627e3d98836cc890e7cb40c7575424cfd3340f40ed\n",
            "Successfully built feedparser jieba3k tinysegmenter feedfinder2\n",
            "Installing collected packages: cssselect, feedparser, requests-file, tldextract, jieba3k, tinysegmenter, feedfinder2, newspaper3k\n",
            "Successfully installed cssselect-1.1.0 feedfinder2-0.0.4 feedparser-5.2.1 jieba3k-0.35.1 newspaper3k-0.2.8 requests-file-1.4.3 tinysegmenter-0.3 tldextract-2.2.2\n"
          ],
          "name": "stdout"
        }
      ]
    },
    {
      "cell_type": "code",
      "metadata": {
        "id": "i4gT0k1xgKtv",
        "colab_type": "code",
        "colab": {}
      },
      "source": [
        "#Get the article\n",
        "url = 'https://echo.msk.ru/news/2618885-echo.html'\n",
        "article = Article(url)"
      ],
      "execution_count": 0,
      "outputs": []
    },
    {
      "cell_type": "code",
      "metadata": {
        "id": "4QXpg3gJgdPi",
        "colab_type": "code",
        "outputId": "c34f95b1-fd31-4549-dcd1-441fcfe4b7fb",
        "colab": {
          "base_uri": "https://localhost:8080/",
          "height": 53
        }
      },
      "source": [
        "# Do some NLP\n",
        "article.download()\n",
        "article.parse()\n",
        "nltk.download('punkt')\n",
        "article.nlp()"
      ],
      "execution_count": 0,
      "outputs": [
        {
          "output_type": "stream",
          "text": [
            "[nltk_data] Downloading package punkt to /root/nltk_data...\n",
            "[nltk_data]   Package punkt is already up-to-date!\n"
          ],
          "name": "stdout"
        }
      ]
    },
    {
      "cell_type": "code",
      "metadata": {
        "id": "hzO07tkOgsns",
        "colab_type": "code",
        "outputId": "c1fed438-bff1-4892-cb1c-11c4b186a6d5",
        "colab": {
          "base_uri": "https://localhost:8080/",
          "height": 35
        }
      },
      "source": [
        "#Get the authors\n",
        "article.authors"
      ],
      "execution_count": 0,
      "outputs": [
        {
          "output_type": "execute_result",
          "data": {
            "text/plain": [
              "['Официальное Приложение']"
            ]
          },
          "metadata": {
            "tags": []
          },
          "execution_count": 18
        }
      ]
    },
    {
      "cell_type": "code",
      "metadata": {
        "id": "3IMy9G9Egxsb",
        "colab_type": "code",
        "colab": {}
      },
      "source": [
        "#Get the publish date\n",
        "article.publish_date"
      ],
      "execution_count": 0,
      "outputs": []
    },
    {
      "cell_type": "code",
      "metadata": {
        "id": "SSSD9wLPg1hz",
        "colab_type": "code",
        "outputId": "5f2c0986-94d9-405c-a9bf-af622ef25be2",
        "colab": {
          "base_uri": "https://localhost:8080/",
          "height": 35
        }
      },
      "source": [
        "#Get the top image \n",
        "article.top_image"
      ],
      "execution_count": 0,
      "outputs": [
        {
          "output_type": "execute_result",
          "data": {
            "text/plain": [
              "'https://cdn.echo.msk.ru/att/cards/large/2618885.png'"
            ]
          },
          "metadata": {
            "tags": []
          },
          "execution_count": 20
        }
      ]
    },
    {
      "cell_type": "code",
      "metadata": {
        "id": "814k6ar6g49Q",
        "colab_type": "code",
        "outputId": "e08520db-4801-404c-88fc-cc447834b1f4",
        "colab": {
          "base_uri": "https://localhost:8080/",
          "height": 236
        }
      },
      "source": [
        "#Get the article text\n",
        "print(article.text)"
      ],
      "execution_count": 0,
      "outputs": [
        {
          "output_type": "stream",
          "text": [
            "Власти Саудовской Аравии назвали неправдивыми слова Владимира Путина о выходе королевства из сделки по ограничению добычи нефти. Российский президент накануне предположил, что Эр-Рияд пытался избавиться от конкурентов в лице производителей сланцевой нефти.\n",
            "\n",
            "В Саудовской Аравии настаивают, что, вопреки словам Путина, именно Россия отказалась от соглашения между странами ОПЕК+. По словам главы МИД королевства принца Фейсала бен Фархана Аль Сауда, Эр-Рияд, напротив, выступал за еще большее ограничение добычи нефти и также за равновесие на рынке сырья. Это, уверяет министр, соответствовало и интересам компаний США, производящих сланцевую нефть. Москва же, полагают власти Саудовской Аравии, стремилась удерживать низкие цены на сырье, в том числе, чтобы оказать влияние на добычу сланцевой нефти. В заключение принц Фейсал бен Фархан выразил надежду на правильные решения со стороны России на экстренном совещании ОПЕК+.\n",
            "\n",
            "Накануне Путин в ходе совещания о ситуации на энергетических рынках назвал выход Саудовской Аравии из сделки по ограничению добычи сырья одной из причин обрушения цен на нефть. Российский президент также утверждал, что Москва никогда не ставила перед собой цель повлиять на добычу сланцевой нефти. Помимо этого он сообщил о готовности России вновь снизить добычу нефти примерно на 10 млн баррелей в сутки, если к этим договоренностям присоединятся не только страны ОПЕК, но и США.\n",
            "\n",
            "Источники агентств ТАСС и Reuters, тем временем, сообщили о возможном переносе совещания стран ОПЕК+ по ситуации на нефтяном рынке. Изначально оно было запланировано на 6 апреля.\n",
            "\n",
            "Крупнейшие игроки нефтяного рынка в скором времени будут вынуждены прийти к компромиссу и заключить сделку. Такое мнение в интервью «Эху» высказал эксперт российского института стратегических исследований Михаил Беляев.\n",
            "\n",
            "По мнению Беляева, политические разногласия между Россией и Саудовской Аравией останутся на дипломатическом уровне и не повлияют на заключение договора.\n"
          ],
          "name": "stdout"
        }
      ]
    },
    {
      "cell_type": "code",
      "metadata": {
        "id": "JwWe9cWihE_F",
        "colab_type": "code",
        "outputId": "1148ee14-8585-4ad7-cd20-5fff4bf86e84",
        "colab": {
          "base_uri": "https://localhost:8080/",
          "height": 128
        }
      },
      "source": [
        "#Get a summary of the article\n",
        "print(article.summary)"
      ],
      "execution_count": 0,
      "outputs": [
        {
          "output_type": "stream",
          "text": [
            "Власти Саудовской Аравии назвали неправдивыми слова Владимира Путина о выходе королевства из сделки по ограничению добычи нефти.\n",
            "В Саудовской Аравии настаивают, что, вопреки словам Путина, именно Россия отказалась от соглашения между странами ОПЕК+.\n",
            "Москва же, полагают власти Саудовской Аравии, стремилась удерживать низкие цены на сырье, в том числе, чтобы оказать влияние на добычу сланцевой нефти.\n",
            "Накануне Путин в ходе совещания о ситуации на энергетических рынках назвал выход Саудовской Аравии из сделки по ограничению добычи сырья одной из причин обрушения цен на нефть.\n",
            "По мнению Беляева, политические разногласия между Россией и Саудовской Аравией останутся на дипломатическом уровне и не повлияют на заключение договора.\n"
          ],
          "name": "stdout"
        }
      ]
    }
  ]
}